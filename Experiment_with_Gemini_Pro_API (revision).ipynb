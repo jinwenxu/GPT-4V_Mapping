{
  "cells": [
    {
      "cell_type": "markdown",
      "source": [
        "The code below was revised from Google Vertex AI \"Get started with Gemini (Python SDK)\" Notebook.\n",
        "\n",
        "----\n",
        "Copyright 2024 Google LLC\n",
        "\n",
        "Licensed under the Apache License, Version 2.0 (the \"License\");\n",
        "you may not use this file except in compliance with the License.\n",
        "You may obtain a copy of the License at\n",
        "\n",
        "    https://www.apache.org/licenses/LICENSE-2.0\n",
        "\n",
        "Unless required by applicable law or agreed to in writing, software\n",
        "distributed under the License is distributed on an \"AS IS\" BASIS,\n",
        "WITHOUT WARRANTIES OR CONDITIONS OF ANY KIND, either express or implied.\n",
        "See the License for the specific language governing permissions and\n",
        "limitations under the License."
      ],
      "metadata": {
        "id": "jQzc9XvbzhZw"
      }
    },
    {
      "cell_type": "markdown",
      "metadata": {
        "id": "wFNV1e3ASJha"
      },
      "source": [
        "### Install the Python SDK\n",
        "\n",
        "The Python SDK for the Gemini API, is contained in the [`google-generativeai`](https://pypi.org/project/google-generativeai/) package. Install the dependency using pip:"
      ]
    },
    {
      "cell_type": "code",
      "execution_count": null,
      "metadata": {
        "id": "9OEoeosRTv-5",
        "colab": {
          "base_uri": "https://localhost:8080/"
        },
        "outputId": "cad9e096-c00c-4b41-85b1-6bfd0b60d929"
      },
      "outputs": [
        {
          "output_type": "stream",
          "name": "stdout",
          "text": [
            "\u001b[2K     \u001b[90m━━━━━━━━━━━━━━━━━━━━━━━━━━━━━━━━━━━━━━━━\u001b[0m \u001b[32m142.1/142.1 kB\u001b[0m \u001b[31m1.3 MB/s\u001b[0m eta \u001b[36m0:00:00\u001b[0m\n",
            "\u001b[2K     \u001b[90m━━━━━━━━━━━━━━━━━━━━━━━━━━━━━━━━━━━━━━━━\u001b[0m \u001b[32m663.6/663.6 kB\u001b[0m \u001b[31m6.4 MB/s\u001b[0m eta \u001b[36m0:00:00\u001b[0m\n",
            "\u001b[?25h"
          ]
        }
      ],
      "source": [
        "!pip install -q -U google-generativeai"
      ]
    },
    {
      "cell_type": "markdown",
      "metadata": {
        "id": "KCFF5VSTbcAR"
      },
      "source": [
        "### Import packages"
      ]
    },
    {
      "cell_type": "markdown",
      "metadata": {
        "id": "vRC2HngneEeQ"
      },
      "source": [
        "Import the necessary packages."
      ]
    },
    {
      "cell_type": "code",
      "execution_count": null,
      "metadata": {
        "id": "TS9l5igubpHO"
      },
      "outputs": [],
      "source": [
        "import pathlib\n",
        "import textwrap\n",
        "\n",
        "import google.generativeai as genai\n",
        "\n",
        "from IPython.display import display\n",
        "from IPython.display import Markdown\n",
        "\n",
        "\n",
        "def to_markdown(text):\n",
        "  text = text.replace('•', '  *')\n",
        "  return Markdown(textwrap.indent(text, '> ', predicate=lambda _: True))"
      ]
    },
    {
      "cell_type": "code",
      "execution_count": null,
      "metadata": {
        "id": "d10c38a5c91f"
      },
      "outputs": [],
      "source": [
        "# Used to securely store your API key\n",
        "from google.colab import userdata"
      ]
    },
    {
      "cell_type": "code",
      "source": [
        "# mount to Google Drive to save prompt outputs\n",
        "from google.colab import drive\n",
        "drive.mount('/content/drive')"
      ],
      "metadata": {
        "colab": {
          "base_uri": "https://localhost:8080/"
        },
        "id": "fP0hjLTeCh5O",
        "outputId": "6798ceb5-9076-4909-e284-bfecf026c041"
      },
      "execution_count": null,
      "outputs": [
        {
          "output_type": "stream",
          "name": "stdout",
          "text": [
            "Mounted at /content/drive\n"
          ]
        }
      ]
    },
    {
      "cell_type": "markdown",
      "metadata": {
        "id": "gHYFrFPjSGNq"
      },
      "source": [
        "### Setup your API key\n",
        "\n",
        "Before you can use the Gemini API, you must first obtain an API key. If you don't already have one, create a key with one click in Google AI Studio.\n",
        "\n",
        "<a class=\"button button-primary\" href=\"https://makersuite.google.com/app/apikey\" target=\"_blank\" rel=\"noopener noreferrer\">Get an API key</a>"
      ]
    },
    {
      "cell_type": "code",
      "execution_count": null,
      "metadata": {
        "id": "ab9ASynfcIZn"
      },
      "outputs": [],
      "source": [
        "# Or use `os.getenv('GOOGLE_API_KEY')` to fetch an environment variable.\n",
        "GOOGLE_API_KEY=userdata.get('GOOGLE_API_KEY')\n",
        "\n",
        "genai.configure(api_key=GOOGLE_API_KEY)"
      ]
    },
    {
      "cell_type": "markdown",
      "metadata": {
        "id": "8ssbTMNVSMd-"
      },
      "source": [
        "## List models\n",
        "\n",
        "Now you're ready to call the Gemini API. Use `list_models` to see the available Gemini models:\n",
        "\n",
        "* `gemini-pro`: optimized for text-only prompts.\n",
        "* `gemini-pro-vision`: optimized for text-and-images prompts."
      ]
    },
    {
      "cell_type": "code",
      "execution_count": null,
      "metadata": {
        "id": "QvvWFy08e5c5",
        "outputId": "8ff94b7e-19be-4682-ab2b-1a0d00d12501",
        "colab": {
          "base_uri": "https://localhost:8080/",
          "height": 139
        }
      },
      "outputs": [
        {
          "output_type": "stream",
          "name": "stdout",
          "text": [
            "models/gemini-1.0-pro\n",
            "models/gemini-1.0-pro-001\n",
            "models/gemini-1.0-pro-latest\n",
            "models/gemini-1.0-pro-vision-latest\n",
            "models/gemini-1.5-pro-latest\n",
            "models/gemini-pro\n",
            "models/gemini-pro-vision\n"
          ]
        }
      ],
      "source": [
        "for m in genai.list_models():\n",
        "  if 'generateContent' in m.supported_generation_methods:\n",
        "    print(m.name)"
      ]
    },
    {
      "cell_type": "markdown",
      "metadata": {
        "id": "FTl5NjtrhA0J"
      },
      "source": [
        "Note: For detailed information about the available models, including their capabilities and rate limits, see [Gemini models](https://ai.google.dev/models/gemini). There are options for requesting [rate limit increases](https://ai.google.dev/docs/increase_quota). The rate limit for Gemini-Pro models is 60 requests per minute (RPM)."
      ]
    },
    {
      "cell_type": "code",
      "execution_count": null,
      "metadata": {
        "id": "CjnS0vNTsVis"
      },
      "outputs": [],
      "source": [
        "import PIL.Image\n",
        "model = genai.GenerativeModel('models/gemini-1.0-pro-vision-latest')\n",
        "img = PIL.Image.open('/content/drive/MyDrive/GPT4-V_Map_reading/Prompt 1.1/pop_batch_dot_01.jpeg')\n",
        "response = model.generate_content([\"List all map elements included in the given map.\", img], stream=True)\n",
        "response.resolve()\n",
        "print(to_markdown(response.text))\n",
        "with open(\"/content/drive/MyDrive/GPT4-V_Map_reading/output/prompt_1_1_test_Gemini.txt\", \"w\") as file:\n",
        "  file.write(to_markdown(response.text))"
      ]
    },
    {
      "cell_type": "code",
      "source": [
        "to_markdown(response.text)"
      ],
      "metadata": {
        "colab": {
          "base_uri": "https://localhost:8080/",
          "height": 215
        },
        "id": "CUMJrvs8XxwC",
        "outputId": "2a4c98d2-0545-4ced-b3e9-5068f1c78827"
      },
      "execution_count": null,
      "outputs": [
        {
          "output_type": "execute_result",
          "data": {
            "text/plain": [
              "<IPython.core.display.Markdown object>"
            ],
            "text/markdown": ">  The map includes the following elements:\n> 1. Title: Dot Density Map of Population in Alabama Counties\n> 2. Data layer: A dot density layer showing the population distribution in Alabama counties.\n> 3. Base layer: A map of Alabama counties.\n> 4. Legend: A legend explaining the dot density layer.\n> 5. Scale bar: A scale bar showing the distance in miles.\n> 6. North arrow: A north arrow showing the direction of north.\n> 7. Graticule: A graticule showing the latitude and longitude of the map.\n> 8. Point of interest: A point of interest showing the location of Montgomery, the capital of Alabama."
          },
          "metadata": {},
          "execution_count": 13
        }
      ]
    },
    {
      "cell_type": "code",
      "source": [
        "import os\n",
        "from pathlib import Path\n",
        "import time\n",
        "import glob\n",
        "model = genai.GenerativeModel('models/gemini-1.0-pro-vision-latest')\n",
        "\n",
        "max_retries = 2\n",
        "\n",
        "output_files = glob.glob(\"/content/drive/MyDrive/GPT4-V_Map_reading/output/*Gemini.txt\")\n",
        "\n",
        "for document in os.listdir(\"/content/drive/MyDrive/GPT4-V_Map_reading/Prompt 1.1/\"):\n",
        "  if not any(str(Path(document).stem) in file for file in output_files):\n",
        "    retries = 0\n",
        "    while retries < max_retries:\n",
        "      try:\n",
        "        img = PIL.Image.open('/content/drive/MyDrive/GPT4-V_Map_reading/Prompt 1.1/'+document)\n",
        "        response = model.generate_content([\"List all map elements included in the given map.\", img], stream=False)\n",
        "        response.resolve()\n",
        "        with open(\"/content/drive/MyDrive/GPT4-V_Map_reading/output/Prompt_1.1_\"+str(Path(document).stem)+\"_Gemini.txt\", \"w\") as file:\n",
        "          file.write(response.text)\n",
        "        print(f\"Processed: {document}\")\n",
        "        break  # Break out of the retry loop since processing was successful\n",
        "\n",
        "      except Exception as e:\n",
        "        retries += 1\n",
        "        print(f\"An error occurred while processing {document}: {e}\")\n",
        "        time.sleep(3)\n",
        "\n",
        "      if retries >= max_retries:\n",
        "                  print(f\"Failed to process {document} after {max_retries} retries.\")\n",
        "\n",
        "    time.sleep(3)\n"
      ],
      "metadata": {
        "colab": {
          "base_uri": "https://localhost:8080/",
          "height": 399
        },
        "id": "T_okshl9rwlR",
        "outputId": "23c79206-f85e-4e73-8999-f5bbe8185278"
      },
      "execution_count": null,
      "outputs": [
        {
          "output_type": "stream",
          "name": "stdout",
          "text": [
            "Processed: unemploy_batch_gcmap_28.jpeg\n",
            "Processed: unemploy_batch_gcmap_29.jpeg\n",
            "Processed: unemploy_batch_gcmap_22.jpeg\n",
            "Processed: unemploy_batch_gcmap_24.jpeg\n",
            "Processed: unemploy_batch_gcmap_20.jpeg\n",
            "Processed: unemploy_batch_gcmap_18.jpeg\n",
            "Processed: unemploy_batch_gcmap_21.jpeg\n",
            "Processed: unemploy_batch_gcmap_13.jpeg\n",
            "Processed: unemploy_batch_gcmap_01.jpeg\n",
            "Processed: unemploy_batch_gcmap_05.jpeg\n",
            "Processed: unemploy_batch_gcmap_17.jpeg\n",
            "Processed: unemploy_batch_gcmap_12.jpeg\n",
            "Processed: income_batch_gcmap_48.jpeg\n",
            "Processed: income_batch_gcmap_51.jpeg\n",
            "Processed: income_batch_gcmap_54.jpeg\n",
            "Processed: income_batch_gcmap_47.jpeg\n",
            "Processed: income_batch_gcmap_40.jpeg\n",
            "Processed: income_batch_gcmap_45.jpeg\n",
            "Processed: income_batch_gcmap_29.jpeg\n",
            "Processed: income_batch_gcmap_37.jpeg\n",
            "Processed: income_batch_gcmap_39.jpeg\n",
            "Processed: income_batch_gcmap_28.jpeg\n"
          ]
        }
      ]
    },
    {
      "cell_type": "code",
      "source": [
        "glob.glob(\"/content/drive/MyDrive/GPT4-V_Map_reading/output/Prompt_1.2_*Gemini.txt\")\n"
      ],
      "metadata": {
        "colab": {
          "base_uri": "https://localhost:8080/"
        },
        "id": "SKN3PWH_4mRO",
        "outputId": "bfea0583-6cf2-4f73-8db4-d66038c57510"
      },
      "execution_count": null,
      "outputs": [
        {
          "output_type": "execute_result",
          "data": {
            "text/plain": [
              "[]"
            ]
          },
          "metadata": {},
          "execution_count": 18
        }
      ]
    },
    {
      "cell_type": "code",
      "source": [
        "import os\n",
        "from pathlib import Path\n",
        "import time\n",
        "import glob\n",
        "model = genai.GenerativeModel('models/gemini-1.0-pro-vision-latest')\n",
        "\n",
        "max_retries = 2\n",
        "\n",
        "output_files = []\n",
        "#glob.glob(\"/content/drive/MyDrive/GPT4-V_Map_reading/output/Prompt_1.2_*Gemini.txt\")\n",
        "\n",
        "for document in os.listdir(\"/content/drive/MyDrive/GPT4-V_Map_reading/Prompt 1.2/\"):\n",
        "  if not any(str(Path(document).stem) in file for file in output_files):\n",
        "    retries = 0\n",
        "    while retries < max_retries:\n",
        "      try:\n",
        "        img = PIL.Image.open('/content/drive/MyDrive/GPT4-V_Map_reading/Prompt 1.2/'+document)\n",
        "        response = model.generate_content([\"Identify the type of thematic map the given figure represents.\", img], stream=False)\n",
        "        response.resolve()\n",
        "        with open(\"/content/drive/MyDrive/GPT4-V_Map_reading/output/Prompt_1.2_\"+str(Path(document).stem)+\"_Gemini.txt\", \"w\") as file:\n",
        "          file.write(response.text)\n",
        "        print(f\"Processed: {document}\")\n",
        "        break  # Break out of the retry loop since processing was successful\n",
        "\n",
        "      except Exception as e:\n",
        "        retries += 1\n",
        "        print(f\"An error occurred while processing {document}: {e}\")\n",
        "        time.sleep(3)\n",
        "\n",
        "      if retries >= max_retries:\n",
        "                  print(f\"Failed to process {document} after {max_retries} retries.\")\n",
        "\n",
        "    time.sleep(3)\n"
      ],
      "metadata": {
        "colab": {
          "base_uri": "https://localhost:8080/",
          "height": 1000
        },
        "id": "tBb4mJT1DvMB",
        "outputId": "b8302242-dac2-4110-b039-dd53a72da976"
      },
      "execution_count": null,
      "outputs": [
        {
          "output_type": "stream",
          "name": "stdout",
          "text": [
            "Processed: income_batch_gcmap_notitle_22.jpeg\n",
            "Processed: income_batch_gcmap_notitle_20.jpeg\n",
            "Processed: income_batch_gcmap_notitle_24.jpeg\n",
            "Processed: income_batch_gcmap_notitle_12.jpeg\n",
            "Processed: income_batch_gcmap_notitle_05.jpeg\n",
            "Processed: income_batch_gcmap_notitle_01.jpeg\n",
            "Processed: income_batch_gcmap_notitle_18.jpeg\n",
            "Processed: income_batch_gcmap_notitle_13.jpeg\n",
            "Processed: income_batch_gcmap_notitle_21.jpeg\n",
            "Processed: income_batch_gcmap_notitle_17.jpeg\n",
            "Processed: pop_batch_dot_notitle_28.jpeg\n",
            "Processed: pop_batch_dot_notitle_24.jpeg\n",
            "Processed: pop_batch_dot_notitle_21.jpeg\n",
            "Processed: pop_batch_dot_notitle_17.jpeg\n",
            "Processed: pop_batch_dot_notitle_18.jpeg\n",
            "Processed: pop_batch_dot_notitle_20.jpeg\n",
            "Processed: pop_batch_dot_notitle_22.jpeg\n",
            "Processed: pop_batch_dot_notitle_05.jpeg\n",
            "Processed: pop_batch_dot_notitle_12.jpeg\n",
            "Processed: pop_batch_dot_notitle_13.jpeg\n",
            "Processed: pop_batch_dot_notitle_01.jpeg\n",
            "Processed: income_batch_gcmap_notitle_54.jpeg\n",
            "Processed: income_batch_gcmap_notitle_47.jpeg\n",
            "Processed: income_batch_gcmap_notitle_51.jpeg\n",
            "Processed: income_batch_gcmap_notitle_45.jpeg\n",
            "Processed: income_batch_gcmap_notitle_40.jpeg\n",
            "Processed: income_batch_gcmap_notitle_29.jpeg\n",
            "Processed: income_batch_gcmap_notitle_37.jpeg\n",
            "Processed: income_batch_gcmap_notitle_39.jpeg\n",
            "Processed: income_batch_gcmap_notitle_48.jpeg\n",
            "Processed: income_batch_gcmap_notitle_28.jpeg\n",
            "Processed: pop_batch_gcmap_notitle_48.jpeg\n",
            "Processed: pop_batch_gcmap_notitle_40.jpeg\n",
            "Processed: pop_batch_gcmap_notitle_37.jpeg\n",
            "Processed: pop_batch_gcmap_notitle_54.jpeg\n",
            "Processed: pop_batch_gcmap_notitle_51.jpeg\n",
            "Processed: pop_batch_gcmap_notitle_45.jpeg\n",
            "Processed: pop_batch_gcmap_notitle_28.jpeg\n",
            "Processed: pop_batch_gcmap_notitle_47.jpeg\n",
            "Processed: pop_batch_gcmap_notitle_39.jpeg\n",
            "Processed: pop_batch_gcmap_notitle_29.jpeg\n",
            "Processed: pop_batch_gcmap_notitle_24.jpeg\n",
            "Processed: pop_batch_gcmap_notitle_20.jpeg\n",
            "Processed: pop_batch_gcmap_notitle_13.jpeg\n",
            "Processed: pop_batch_gcmap_notitle_22.jpeg\n",
            "Processed: pop_batch_gcmap_notitle_18.jpeg\n",
            "Processed: pop_batch_gcmap_notitle_17.jpeg\n",
            "Processed: pop_batch_gcmap_notitle_12.jpeg\n",
            "Processed: pop_batch_gcmap_notitle_05.jpeg\n",
            "Processed: pop_batch_gcmap_notitle_21.jpeg\n",
            "Processed: pop_batch_gcmap_notitle_01.jpeg\n",
            "Processed: pop_batch_dot_notitle_39.jpeg\n",
            "Processed: pop_batch_dot_notitle_51.jpeg\n",
            "Processed: pop_batch_dot_notitle_54.jpeg\n",
            "Processed: pop_batch_dot_notitle_48.jpeg\n",
            "Processed: pop_batch_dot_notitle_45.jpeg\n",
            "Processed: pop_batch_dot_notitle_29.jpeg\n",
            "Processed: pop_batch_dot_notitle_37.jpeg\n",
            "Processed: pop_batch_dot_notitle_40.jpeg\n",
            "Processed: pop_batch_dot_notitle_47.jpeg\n",
            "Processed: unemploy_batch_gcmap_notitle_48.jpeg\n",
            "Processed: unemploy_batch_gcmap_notitle_45.jpeg\n",
            "Processed: unemploy_batch_gcmap_notitle_47.jpeg\n",
            "Processed: unemploy_batch_gcmap_notitle_29.jpeg\n",
            "Processed: unemploy_batch_gcmap_notitle_39.jpeg\n",
            "Processed: unemploy_batch_gcmap_notitle_40.jpeg\n",
            "Processed: unemploy_batch_gcmap_notitle_51.jpeg\n",
            "Processed: unemploy_batch_gcmap_notitle_37.jpeg\n",
            "Processed: unemploy_batch_gcmap_notitle_54.jpeg\n",
            "Processed: unemploy_batch_gcmap_notitle_28.jpeg\n",
            "Processed: unemploy_batch_gcmap_notitle_05.jpeg\n",
            "Processed: unemploy_batch_gcmap_notitle_24.jpeg\n",
            "Processed: unemploy_batch_gcmap_notitle_18.jpeg\n",
            "Processed: unemploy_batch_gcmap_notitle_21.jpeg\n",
            "Processed: unemploy_batch_gcmap_notitle_01.jpeg\n",
            "Processed: unemploy_batch_gcmap_notitle_12.jpeg\n",
            "Processed: unemploy_batch_gcmap_notitle_22.jpeg\n",
            "Processed: unemploy_batch_gcmap_notitle_13.jpeg\n",
            "Processed: unemploy_batch_gcmap_notitle_20.jpeg\n",
            "Processed: unemploy_batch_gcmap_notitle_17.jpeg\n",
            "Processed: pop_batch_psmap_notitle_51.jpeg\n",
            "Processed: pop_batch_psmap_notitle_37.jpeg\n",
            "Processed: pop_batch_psmap_notitle_45.jpeg\n",
            "Processed: pop_batch_psmap_notitle_54.jpeg\n",
            "Processed: pop_batch_psmap_notitle_47.jpeg\n",
            "Processed: pop_batch_psmap_notitle_29.jpeg\n",
            "Processed: pop_batch_psmap_notitle_40.jpeg\n",
            "Processed: pop_batch_psmap_notitle_39.jpeg\n",
            "Processed: pop_batch_psmap_notitle_48.jpeg\n",
            "Processed: pop_batch_psmap_notitle_28.jpeg\n",
            "Processed: pop_batch_psmap_notitle_22.jpeg\n",
            "Processed: pop_batch_psmap_notitle_24.jpeg\n",
            "Processed: pop_batch_psmap_notitle_21.jpeg\n",
            "Processed: pop_batch_psmap_notitle_05.jpeg\n",
            "Processed: pop_batch_psmap_notitle_18.jpeg\n",
            "Processed: pop_batch_psmap_notitle_17.jpeg\n",
            "Processed: pop_batch_psmap_notitle_13.jpeg\n",
            "Processed: pop_batch_psmap_notitle_12.jpeg\n",
            "Processed: pop_batch_psmap_notitle_20.jpeg\n",
            "Processed: pop_batch_psmap_notitle_01.jpeg\n"
          ]
        }
      ]
    },
    {
      "cell_type": "code",
      "source": [
        "import os\n",
        "from pathlib import Path\n",
        "import time\n",
        "import glob\n",
        "import PIL.Image\n",
        "\n",
        "model = genai.GenerativeModel('models/gemini-1.0-pro-vision-latest')\n",
        "\n",
        "max_retries = 2\n",
        "\n",
        "output_files = []\n",
        "#glob.glob(\"/content/drive/MyDrive/GPT4-V_Map_reading/output/Prompt_1.2_*Gemini.txt\")\n",
        "\n",
        "for document in os.listdir(\"/content/drive/MyDrive/GPT4-V_Map_reading/Prompt 2.1/\"):\n",
        "  if not any(str(Path(document).stem) in file for file in output_files):\n",
        "    retries = 0\n",
        "    while retries < max_retries:\n",
        "      try:\n",
        "        img = PIL.Image.open('/content/drive/MyDrive/GPT4-V_Map_reading/Prompt 2.1/'+document)\n",
        "        response = model.generate_content([\"List the most likely point distribution (choose from random, dispersed, or clustered) in the attached figure.\", img], stream=False)\n",
        "        response.resolve()\n",
        "        with open(\"/content/drive/MyDrive/GPT4-V_Map_reading/output/Prompt_2.1_\"+str(Path(document).stem)+\"_Gemini.txt\", \"w\") as file:\n",
        "          file.write(response.text)\n",
        "        print(f\"Processed: {document}\")\n",
        "        break  # Break out of the retry loop since processing was successful\n",
        "\n",
        "      except Exception as e:\n",
        "        retries += 1\n",
        "        print(f\"An error occurred while processing {document}: {e}\")\n",
        "        time.sleep(3)\n",
        "\n",
        "      if retries >= max_retries:\n",
        "                  print(f\"Failed to process {document} after {max_retries} retries.\")\n",
        "\n",
        "    time.sleep(3)\n"
      ],
      "metadata": {
        "colab": {
          "base_uri": "https://localhost:8080/",
          "height": 538
        },
        "id": "tCQIUD77Dv6_",
        "outputId": "83ce7c3a-1227-4f82-daf5-9a5cf8e0490f"
      },
      "execution_count": null,
      "outputs": [
        {
          "output_type": "stream",
          "name": "stdout",
          "text": [
            "Processed: pts_clustered_00.jpeg\n",
            "Processed: pts_clustered_01.jpeg\n",
            "Processed: pts_clustered_02.jpeg\n",
            "Processed: pts_clustered_03.jpeg\n",
            "Processed: pts_clustered_04.jpeg\n",
            "Processed: pts_clustered_05.jpeg\n",
            "Processed: pts_clustered_06.jpeg\n",
            "Processed: pts_clustered_07.jpeg\n",
            "Processed: pts_clustered_08.jpeg\n",
            "Processed: pts_clustered_09.jpeg\n",
            "Processed: pts_dispersed_00.jpeg\n",
            "Processed: pts_dispersed_01.jpeg\n",
            "Processed: pts_dispersed_02.jpeg\n",
            "Processed: pts_dispersed_03.jpeg\n",
            "Processed: pts_dispersed_04.jpeg\n",
            "Processed: pts_dispersed_05.jpeg\n",
            "Processed: pts_dispersed_06.jpeg\n",
            "Processed: pts_dispersed_07.jpeg\n",
            "Processed: pts_dispersed_08.jpeg\n",
            "Processed: pts_dispersed_09.jpeg\n",
            "Processed: pts_random_00.jpeg\n",
            "Processed: pts_random_01.jpeg\n",
            "Processed: pts_random_02.jpeg\n",
            "Processed: pts_random_03.jpeg\n",
            "Processed: pts_random_04.jpeg\n",
            "Processed: pts_random_05.jpeg\n",
            "Processed: pts_random_06.jpeg\n",
            "Processed: pts_random_07.jpeg\n",
            "Processed: pts_random_08.jpeg\n",
            "Processed: pts_random_09.jpeg\n"
          ]
        }
      ]
    },
    {
      "cell_type": "code",
      "source": [
        "import os\n",
        "from pathlib import Path\n",
        "import time\n",
        "import glob\n",
        "import PIL.Image\n",
        "\n",
        "model = genai.GenerativeModel('models/gemini-1.0-pro-vision-latest')\n",
        "\n",
        "max_retries = 2\n",
        "\n",
        "output_files = []\n",
        "#glob.glob(\"/content/drive/MyDrive/GPT4-V_Map_reading/output/Prompt_2.4_*Gemini.txt\")\n",
        "\n",
        "for document in os.listdir(\"/content/drive/MyDrive/GPT4-V_Map_reading/Prompt 2.4/\"):\n",
        "  if not any(str(Path(document).stem) in file for file in output_files):\n",
        "    retries = 0\n",
        "    while retries < max_retries:\n",
        "      try:\n",
        "        img = PIL.Image.open('/content/drive/MyDrive/GPT4-V_Map_reading/Prompt 2.4/'+document)\n",
        "        response = model.generate_content([\"Describe the two tyeps of point distribution patterns (in green and blue) in the following map combined with the underlying income variable and tell which crime is more related to income?\", img], stream=False)\n",
        "        response.resolve()\n",
        "        with open(\"/content/drive/MyDrive/GPT4-V_Map_reading/output/Prompt_2.4_\"+str(Path(document).stem)+\"_Gemini.txt\", \"w\") as file:\n",
        "          file.write(response.text)\n",
        "        print(f\"Processed: {document}\")\n",
        "        break  # Break out of the retry loop since processing was successful\n",
        "\n",
        "      except Exception as e:\n",
        "        retries += 1\n",
        "        print(f\"An error occurred while processing {document}: {e}\")\n",
        "        time.sleep(3)\n",
        "\n",
        "      if retries >= max_retries:\n",
        "                  print(f\"Failed to process {document} after {max_retries} retries.\")\n",
        "\n",
        "    time.sleep(3)\n"
      ],
      "metadata": {
        "colab": {
          "base_uri": "https://localhost:8080/",
          "height": 86
        },
        "id": "QOAvFpRC_Gts",
        "outputId": "1b8e907a-d47d-4075-d8c5-2ad2daaa54e1"
      },
      "execution_count": null,
      "outputs": [
        {
          "output_type": "stream",
          "name": "stdout",
          "text": [
            "Processed: fig_as.jpg\n",
            "Processed: fig_bg.jpg\n",
            "Processed: fig_cd.jpg\n",
            "Processed: fig_mvt.jpg\n"
          ]
        }
      ]
    },
    {
      "cell_type": "code",
      "source": [
        "import os\n",
        "from pathlib import Path\n",
        "import time\n",
        "import glob\n",
        "import PIL.Image\n",
        "\n",
        "model = genai.GenerativeModel('models/gemini-1.0-pro-vision-latest')\n",
        "\n",
        "max_retries = 2\n",
        "\n",
        "output_files = []\n",
        "#glob.glob(\"/content/drive/MyDrive/GPT4-V_Map_reading/output/Prompt_2.4_*Gemini.txt\")\n",
        "\n",
        "if not any(str(Path(document).stem) in file for file in output_files):\n",
        "  retries = 0\n",
        "  while retries < max_retries:\n",
        "    try:\n",
        "      img = PIL.Image.open('/content/drive/MyDrive/GPT4-V_Map_reading/Map Reading/map_test_1.1.png')\n",
        "      response = model.generate_content([\"List all map elements included in the given map.\", img], stream=False)\n",
        "      response.resolve()\n",
        "      with open(\"/content/drive/MyDrive/GPT4-V_Map_reading/Prompt_1.1_Gemini.txt\", \"w\") as file:\n",
        "        file.write(response.text)\n",
        "      print(f\"Processed: {document}\")\n",
        "      print(response.text)\n",
        "      break  # Break out of the retry loop since processing was successful\n",
        "\n",
        "    except Exception as e:\n",
        "      retries += 1\n",
        "      print(f\"An error occurred while processing {document}: {e}\")\n",
        "      time.sleep(3)\n",
        "\n",
        "    if retries >= max_retries:\n",
        "                print(f\"Failed to process {document} after {max_retries} retries.\")\n",
        "\n",
        "  time.sleep(3)\n"
      ],
      "metadata": {
        "colab": {
          "base_uri": "https://localhost:8080/",
          "height": 191
        },
        "id": "isePecsYNVa-",
        "outputId": "3a231f0d-1404-49ef-faf9-54ef0bb6fefe"
      },
      "execution_count": null,
      "outputs": [
        {
          "output_type": "stream",
          "name": "stdout",
          "text": [
            "Processed: fig_mvt.jpg\n",
            " The map includes the following elements:\n",
            "- Title: Predicted Habitat within Occupied Watersheds (Circa 2000)\n",
            "- Species: Spotted Owl (Strix occidentalis)\n",
            "- Map of Oregon\n",
            "- Legend: None, Poor, Fair, Good\n",
            "- Ecoregional boundaries\n",
            "- County boundaries\n",
            "- Scale bar (miles and kilometers)\n",
            "- Source: Oregon Natural Heritage Information Center, 2005; updated ODFW Conservation Strategy GAP Analysis\n"
          ]
        }
      ]
    },
    {
      "cell_type": "code",
      "source": [
        "import os\n",
        "from pathlib import Path\n",
        "import time\n",
        "import glob\n",
        "import PIL.Image\n",
        "\n",
        "model = genai.GenerativeModel('models/gemini-1.0-pro-vision-latest')\n",
        "\n",
        "max_retries = 2\n",
        "\n",
        "output_files = []\n",
        "#glob.glob(\"/content/drive/MyDrive/GPT4-V_Map_reading/output/Prompt_2.4_*Gemini.txt\")\n",
        "\n",
        "if not any(str(Path(document).stem) in file for file in output_files):\n",
        "  retries = 0\n",
        "  while retries < max_retries:\n",
        "    try:\n",
        "      img = PIL.Image.open('/content/drive/MyDrive/GPT4-V_Map_reading/Map Reading/CV11_Fig1_1.jpg')\n",
        "      response = model.generate_content([\"Vertical Axis and Horizontal Axis illustrates different types of map representation. List what types of thematic maps are in each quadrant of the figure attached.\", img], stream=False)\n",
        "      response.resolve()\n",
        "      with open(\"/content/drive/MyDrive/GPT4-V_Map_reading/Prompt_1.2_Gemini.txt\", \"w\") as file:\n",
        "        file.write(response.text)\n",
        "      print(f\"Processed: {document}\")\n",
        "      print(response.text)\n",
        "      break  # Break out of the retry loop since processing was successful\n",
        "\n",
        "    except Exception as e:\n",
        "      retries += 1\n",
        "      print(f\"An error occurred while processing {document}: {e}\")\n",
        "      time.sleep(3)\n",
        "\n",
        "    if retries >= max_retries:\n",
        "                print(f\"Failed to process {document} after {max_retries} retries.\")\n",
        "\n",
        "  time.sleep(3)\n"
      ],
      "metadata": {
        "colab": {
          "base_uri": "https://localhost:8080/",
          "height": 225
        },
        "id": "PtdXWryNTAww",
        "outputId": "4aaca2bc-e5a2-4a75-f1fb-41916809c81e"
      },
      "execution_count": null,
      "outputs": [
        {
          "output_type": "stream",
          "name": "stdout",
          "text": [
            "Processed: fig_mvt.jpg\n",
            " **Quadrant 1: Discrete-Smooth**\n",
            " - Choropleth map\n",
            "\n",
            "**Quadrant 2: Discrete-Abrupt**\n",
            " -  Graduated symbol map\n",
            "\n",
            "**Quadrant 3: Continuous-Smooth**\n",
            " - Isarithmic map\n",
            "\n",
            "**Quadrant 4: Continuous-Abrupt**\n",
            " - Area class map\n"
          ]
        }
      ]
    },
    {
      "cell_type": "code",
      "source": [
        "import PIL.Image\n",
        "img = PIL.Image.open('fig03.png').convert('RGB')\n",
        "img"
      ],
      "metadata": {
        "id": "5Ety_MJJ0-XH",
        "outputId": "6dd62a7b-b59a-4803-e392-4705264818af",
        "colab": {
          "base_uri": "https://localhost:8080/",
          "height": 268
        }
      },
      "execution_count": null,
      "outputs": [
        {
          "output_type": "execute_result",
          "data": {
            "text/plain": [
              "<PIL.Image.Image image mode=RGB size=402x251>"
            ],
            "image/png": "[encoded data removed]"
          },
          "metadata": {},
          "execution_count": 17
        }
      ]
    },
    {
      "cell_type": "code",
      "source": [
        "response = model.generate_content([\"Can you tell me what's the projection used in the following map?\", img], stream=True)\n",
        "response.resolve()\n",
        "to_markdown(response.text)"
      ],
      "metadata": {
        "id": "PjA9d12n0w_Q"
      },
      "execution_count": null,
      "outputs": []
    },
    {
      "cell_type": "code",
      "source": [
        "to_markdown(response.text)"
      ],
      "metadata": {
        "colab": {
          "base_uri": "https://localhost:8080/",
          "height": 97
        },
        "id": "elbIBgN73609",
        "outputId": "f9cea4f7-1bb9-478b-8e59-01001fc80ad1"
      },
      "execution_count": null,
      "outputs": [
        {
          "output_type": "execute_result",
          "data": {
            "text/plain": [
              "<IPython.core.display.Markdown object>"
            ],
            "text/markdown": ">  The Albers equal-area conic projection is a map projection that is used to represent areas that are located between two latitudes. It is a compromise projection, which means that it does not distort the area of landmasses, but it does distort their shape. The Albers equal-area conic projection is often used to represent the United States, Canada, and other countries that are located in the mid-latitudes."
          },
          "metadata": {},
          "execution_count": 19
        }
      ]
    },
    {
      "cell_type": "code",
      "source": [
        "to_markdown(response.text)"
      ],
      "metadata": {
        "id": "b_7fjLVT2UyP",
        "outputId": "cd9fe89a-a3f3-41b6-eedf-ded8d08eec10",
        "colab": {
          "base_uri": "https://localhost:8080/",
          "height": 226
        }
      },
      "execution_count": null,
      "outputs": [
        {
          "output_type": "execute_result",
          "data": {
            "text/plain": [
              "<IPython.core.display.Markdown object>"
            ],
            "text/markdown": ">  **Quadrant 1: Discrete-Smooth**\n> - Dot map\n> \n> **Quadrant 2: Discrete-Abrupt**\n> - Choropleth map\n> \n> **Quadrant 3: Continuous-Smooth**\n> - Isopleth map\n> \n> **Quadrant 4: Continuous-Abrupt**\n> - Area class map"
          },
          "metadata": {},
          "execution_count": 10
        }
      ]
    }
  ],
  "metadata": {
    "colab": {
      "provenance": []
    },
    "kernelspec": {
      "display_name": "Python 3",
      "name": "python3"
    }
  },
  "nbformat": 4,
  "nbformat_minor": 0
}