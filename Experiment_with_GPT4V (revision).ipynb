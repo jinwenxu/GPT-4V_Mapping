{
  "cells": [
    {
      "cell_type": "code",
      "execution_count": null,
      "metadata": {
        "colab": {
          "base_uri": "https://localhost:8080/"
        },
        "id": "f_Nt_uGsEA5n",
        "outputId": "7c951c8d-1906-49f5-bec9-009d85e4ef65"
      },
      "outputs": [
        {
          "name": "stdout",
          "output_type": "stream",
          "text": [
            "Mounted at /content/drive\n"
          ]
        }
      ],
      "source": [
        "# mount to Google Drive to save prompt outputs\n",
        "from google.colab import drive\n",
        "drive.mount('/content/drive')"
      ]
    },
    {
      "cell_type": "code",
      "execution_count": null,
      "metadata": {
        "colab": {
          "base_uri": "https://localhost:8080/"
        },
        "id": "6N5ukTMfEDJW",
        "outputId": "360af5f4-8db8-49a9-cabe-da98d84ebd17"
      },
      "outputs": [
        {
          "name": "stdout",
          "output_type": "stream",
          "text": [
            "Collecting openai==1.6.1\n",
            "  Downloading openai-1.6.1-py3-none-any.whl (225 kB)\n",
            "\u001b[2K     \u001b[90m━━━━━━━━━━━━━━━━━━━━━━━━━━━━━━━━━━━━━━━━\u001b[0m \u001b[32m225.4/225.4 kB\u001b[0m \u001b[31m2.0 MB/s\u001b[0m eta \u001b[36m0:00:00\u001b[0m\n",
            "\u001b[?25hRequirement already satisfied: anyio<5,>=3.5.0 in /usr/local/lib/python3.10/dist-packages (from openai==1.6.1) (3.7.1)\n",
            "Requirement already satisfied: distro<2,>=1.7.0 in /usr/lib/python3/dist-packages (from openai==1.6.1) (1.7.0)\n",
            "Collecting httpx<1,>=0.23.0 (from openai==1.6.1)\n",
            "  Downloading httpx-0.27.0-py3-none-any.whl (75 kB)\n",
            "\u001b[2K     \u001b[90m━━━━━━━━━━━━━━━━━━━━━━━━━━━━━━━━━━━━━━━━\u001b[0m \u001b[32m75.6/75.6 kB\u001b[0m \u001b[31m6.8 MB/s\u001b[0m eta \u001b[36m0:00:00\u001b[0m\n",
            "\u001b[?25hRequirement already satisfied: pydantic<3,>=1.9.0 in /usr/local/lib/python3.10/dist-packages (from openai==1.6.1) (2.6.1)\n",
            "Requirement already satisfied: sniffio in /usr/local/lib/python3.10/dist-packages (from openai==1.6.1) (1.3.0)\n",
            "Requirement already satisfied: tqdm>4 in /usr/local/lib/python3.10/dist-packages (from openai==1.6.1) (4.66.2)\n",
            "Requirement already satisfied: typing-extensions<5,>=4.7 in /usr/local/lib/python3.10/dist-packages (from openai==1.6.1) (4.9.0)\n",
            "Requirement already satisfied: idna>=2.8 in /usr/local/lib/python3.10/dist-packages (from anyio<5,>=3.5.0->openai==1.6.1) (3.6)\n",
            "Requirement already satisfied: exceptiongroup in /usr/local/lib/python3.10/dist-packages (from anyio<5,>=3.5.0->openai==1.6.1) (1.2.0)\n",
            "Requirement already satisfied: certifi in /usr/local/lib/python3.10/dist-packages (from httpx<1,>=0.23.0->openai==1.6.1) (2024.2.2)\n",
            "Collecting httpcore==1.* (from httpx<1,>=0.23.0->openai==1.6.1)\n",
            "  Downloading httpcore-1.0.4-py3-none-any.whl (77 kB)\n",
            "\u001b[2K     \u001b[90m━━━━━━━━━━━━━━━━━━━━━━━━━━━━━━━━━━━━━━━━\u001b[0m \u001b[32m77.8/77.8 kB\u001b[0m \u001b[31m6.5 MB/s\u001b[0m eta \u001b[36m0:00:00\u001b[0m\n",
            "\u001b[?25hCollecting h11<0.15,>=0.13 (from httpcore==1.*->httpx<1,>=0.23.0->openai==1.6.1)\n",
            "  Downloading h11-0.14.0-py3-none-any.whl (58 kB)\n",
            "\u001b[2K     \u001b[90m━━━━━━━━━━━━━━━━━━━━━━━━━━━━━━━━━━━━━━━━\u001b[0m \u001b[32m58.3/58.3 kB\u001b[0m \u001b[31m4.8 MB/s\u001b[0m eta \u001b[36m0:00:00\u001b[0m\n",
            "\u001b[?25hRequirement already satisfied: annotated-types>=0.4.0 in /usr/local/lib/python3.10/dist-packages (from pydantic<3,>=1.9.0->openai==1.6.1) (0.6.0)\n",
            "Requirement already satisfied: pydantic-core==2.16.2 in /usr/local/lib/python3.10/dist-packages (from pydantic<3,>=1.9.0->openai==1.6.1) (2.16.2)\n",
            "Installing collected packages: h11, httpcore, httpx, openai\n",
            "Successfully installed h11-0.14.0 httpcore-1.0.4 httpx-0.27.0 openai-1.6.1\n"
          ]
        }
      ],
      "source": [
        "!pip install openai==1.6.1"
      ]
    },
    {
      "cell_type": "code",
      "execution_count": null,
      "metadata": {
        "id": "XrYoMMSfFj0z"
      },
      "outputs": [],
      "source": [
        "from subprocess import getoutput\n",
        "from IPython.display import HTML\n",
        "!apt-get install xattr > /dev/null\n",
        "\n",
        "def get_shareable_link(file_path):\n",
        "  fid = getoutput(\"xattr -p 'user.drive.id' \" + \"'\" + file_path + \"'\")\n",
        "  # make a link and display it\n",
        "  return fid"
      ]
    },
    {
      "cell_type": "code",
      "execution_count": null,
      "metadata": {
        "colab": {
          "base_uri": "https://localhost:8080/"
        },
        "id": "8GYnO8lpP3B1",
        "outputId": "2f6fa0a6-667d-4d20-c49c-495a4903e172"
      },
      "outputs": [
        {
          "name": "stdout",
          "output_type": "stream",
          "text": [
            "1-jlzljUAQyYOA7BSK8A_9pYSHPOiI_tf\n"
          ]
        }
      ],
      "source": [
        "print(get_shareable_link(\"/content/drive/MyDrive/GPT4V_Map_Reading/Prompt 1.1/pop_batch_dot_01.jpeg\"))"
      ]
    },
    {
      "cell_type": "code",
      "execution_count": null,
      "metadata": {
        "colab": {
          "base_uri": "https://localhost:8080/"
        },
        "id": "ZFedZCWOD7_b",
        "outputId": "ec1f23b8-8c43-49cf-b019-53caba896898"
      },
      "outputs": [
        {
          "name": "stdout",
          "output_type": "stream",
          "text": [
            "The map you've provided is a dot density map representing population distribution in the counties of Alabama. Here are the map elements included:\n",
            "\n",
            "1. Title: \"Dot Density Map of Population in Alabama Counties\" at the top of the map, which describes the map's purpose.\n",
            "2. Dots: Each dot represents a certain number of people, indicating population density across the counties.\n",
            "3. County Boundaries: Outlines of counties within Alabama are clearly marked.\n",
            "4. Latitude and Longitude: The map includes latitude and longitude lines, with labels on the axes (Latitude on the y-axis and Longitude on the x-axis).\n",
            "5. Legend: A legend in the lower left corner indicates the population each dot represents, with different scales such as 1K, 10K, 100K, and 1M.\n",
            "6. City Marker: A red dot and label for Montgomery, indicating a significant location on the map.\n",
            "7. Scale: While there is no traditional scale bar, the latitude and longitude markers can help gauge distances on the map.\n",
            "\n",
            "These elements together provide a visual representation of how the population is distributed across the state of Alabama by county.\n"
          ]
        }
      ],
      "source": [
        "from openai import OpenAI\n",
        "import PIL.Image\n",
        "\n",
        "img = PIL.Image.open('/content/drive/MyDrive/GPT4V_Map_Reading/Prompt 1.1/pop_batch_dot_01.jpeg')\n",
        "\n",
        "SEED = 123\n",
        "client = OpenAI(api_key = \"paste_your_API_key_here\")\n",
        "response = client.chat.completions.create(\n",
        "  model=\"gpt-4-vision-preview\",\n",
        "  messages=[\n",
        "    { \"role\": \"user\",\n",
        "      \"content\": [\n",
        "        { \"type\": \"text\",\n",
        "          \"text\": \"List all map elements included in the given map.\",\n",
        "        },\n",
        "        {\"type\": \"image_url\", \"image_url\": {\"url\": \"https://drive.google.com/uc?export=view&id=\"+get_shareable_link(\"/content/drive/MyDrive/GPT4V_Map_Reading/Prompt 1.1/pop_batch_dot_01.jpeg\"),},},\n",
        "      ],\n",
        "    }\n",
        "  ],\n",
        "  seed = 1,\n",
        "  temperature=0,\n",
        "  max_tokens=2000,\n",
        ")\n",
        "\n",
        "print(response.choices[0].message.content)\n",
        "with open(\"/content/drive/MyDrive/GPT4V_Map_Reading/output/prompt_1_1_test_GPT4V.txt\", \"w\") as file:\n",
        "  file.write(to_markdown(response.choices[0].message.content))"
      ]
    },
    {
      "cell_type": "code",
      "execution_count": null,
      "metadata": {
        "id": "CphfmIuLYKXC"
      },
      "outputs": [],
      "source": [
        "import textwrap\n",
        "from IPython.display import display\n",
        "from IPython.display import Markdown\n",
        "\n",
        "def to_markdown(text):\n",
        "  text = text.replace('•', '  *')\n",
        "  return Markdown(textwrap.indent(text, '> ', predicate=lambda _: True))"
      ]
    },
    {
      "cell_type": "code",
      "execution_count": null,
      "metadata": {
        "colab": {
          "base_uri": "https://localhost:8080/",
          "height": 281
        },
        "id": "oNdPhToGX4MC",
        "outputId": "51d093bf-a3fc-4cfc-d8cf-8858a0bbc5eb"
      },
      "outputs": [
        {
          "data": {
            "text/markdown": [
              "> The map elements included in the given map are:\n",
              "> \n",
              "> 1. Title: \"Dot Density Map of Population in Arkansas Counties\" at the top of the map, indicating the map's theme and geographic focus.\n",
              "> 2. Dot Density Legend: A box in the lower-left corner that explains the population representation, with different dot sizes for 1K (1,000), 10K (10,000), 100K (100,000), and 1M (1,000,000) people.\n",
              "> 3. Geographic Labels: \"Little Rock\" is labeled, indicating the location of a significant city within the state of Arkansas.\n",
              "> 4. County Boundaries: Outlines of counties within Arkansas are depicted, providing a political subdivision context.\n",
              "> 5. Latitude and Longitude Markers: Along the borders of the map, there are numerical markers indicating the latitude (vertical on the sides) and longitude (horizontal on the bottom and top) in degrees.\n",
              "> 6. Scale: While there is no graphical scale bar, the latitude and longitude markers can be used to infer distances on the map.\n",
              "> 7. Data Points: Blue dots scattered across the map, representing the population distribution within the counties of Arkansas, with varying sizes corresponding to the population categories in the legend.\n",
              "> \n",
              "> These elements together provide a visual representation of population distribution by county in the state of Arkansas."
            ],
            "text/plain": [
              "<IPython.core.display.Markdown object>"
            ]
          },
          "execution_count": 21,
          "metadata": {},
          "output_type": "execute_result"
        }
      ],
      "source": [
        "to_markdown(response.choices[0].message.content)"
      ]
    },
    {
      "cell_type": "code",
      "execution_count": null,
      "metadata": {
        "colab": {
          "base_uri": "https://localhost:8080/"
        },
        "id": "EwIPOvc4GHvA",
        "outputId": "d6c6a26e-3524-49f0-a8a0-579b293a905f"
      },
      "outputs": [
        {
          "name": "stdout",
          "output_type": "stream",
          "text": [
            "The map elements included in the given map are:\n",
            "\n",
            "1. Title: \"Dot Density Map of Population in Arkansas Counties\" at the top of the map, indicating the map's theme and geographic focus.\n",
            "2. Dot Density Legend: A box in the lower-left corner that explains the population representation, with different dot sizes for 1K (1,000), 10K (10,000), 100K (100,000), and 1M (1,000,000) people.\n",
            "3. Geographic Labels: \"Little Rock\" is labeled, indicating the location of a significant city within the state of Arkansas.\n",
            "4. County Boundaries: Outlines of counties within Arkansas are depicted, providing a political subdivision context.\n",
            "5. Latitude and Longitude Markers: Along the borders of the map, there are numerical markers indicating the latitude (vertical on the sides) and longitude (horizontal on the bottom and top) in degrees.\n",
            "6. Scale: While there is no graphical scale bar, the latitude and longitude markers can be used to infer distances on the map.\n",
            "7. Data Points: Blue dots scattered across the map, representing the population distribution within the counties of Arkansas, with varying sizes corresponding to the population categories in the legend.\n",
            "\n",
            "These elements together provide a visual representation of population distribution by county in the state of Arkansas.\n"
          ]
        }
      ],
      "source": [
        "from openai import OpenAI\n",
        "import PIL.Image\n",
        "\n",
        "img = PIL.Image.open('/content/drive/MyDrive/GPT4V_Map_Reading/Prompt 1.1/pop_batch_dot_01.jpeg')\n",
        "\n",
        "SEED = 123\n",
        "client = OpenAI(api_key = \"paste_your_API_key_here\")\n",
        "response = client.chat.completions.create(\n",
        "  model=\"gpt-4-vision-preview\",\n",
        "  messages=[\n",
        "    { \"role\": \"user\",\n",
        "      \"content\": [\n",
        "        { \"type\": \"text\",\n",
        "          \"text\": \"List all map elements included in the given map.\",\n",
        "        },\n",
        "        {\"type\": \"image_url\", \"image_url\": {\"url\": \"https://drive.google.com/uc?export=view&id=\"+get_shareable_link(\"/content/drive/MyDrive/GPT4V_Map_Reading/Prompt 1.1/pop_batch_dot_05.jpeg\"),},},\n",
        "      ],\n",
        "    }\n",
        "  ],\n",
        "  seed = 1,\n",
        "  temperature=0,\n",
        "  max_tokens=2000,\n",
        ")\n",
        "\n",
        "print(response.choices[0].message.content)"
      ]
    },
    {
      "cell_type": "code",
      "execution_count": null,
      "metadata": {
        "id": "zKMycnIiSVZX"
      },
      "outputs": [],
      "source": [
        "with open(\"/content/drive/MyDrive/GPT4V_Map_Reading/output/prompt_1_1_test.txt\", \"w\") as file:\n",
        "  file.write(response.choices[0].message.content)"
      ]
    },
    {
      "cell_type": "code",
      "execution_count": null,
      "metadata": {
        "id": "Ue52kBehw1vC"
      },
      "outputs": [],
      "source": [
        "import glob\n",
        "output_files = glob.glob(\"/content/drive/MyDrive/GPT4V_Map_Reading/output/*GPT4V.txt\")"
      ]
    },
    {
      "cell_type": "code",
      "execution_count": null,
      "metadata": {
        "colab": {
          "base_uri": "https://localhost:8080/"
        },
        "id": "b3o_dj6UxO6H",
        "outputId": "c073f1d5-172e-46f7-d073-c24c1dd51e97"
      },
      "outputs": [
        {
          "data": {
            "text/plain": [
              "False"
            ]
          },
          "execution_count": 58,
          "metadata": {},
          "output_type": "execute_result"
        }
      ],
      "source": [
        "not any(str(Path(\"pop_batch_dot_12.jpeg\").stem) in file for file in output_files)"
      ]
    },
    {
      "cell_type": "code",
      "execution_count": null,
      "metadata": {
        "id": "UMbknu33yS0A"
      },
      "outputs": [],
      "source": []
    },
    {
      "cell_type": "code",
      "execution_count": null,
      "metadata": {
        "colab": {
          "base_uri": "https://localhost:8080/"
        },
        "id": "FeM4vn7EoUHX",
        "outputId": "a4027b09-3b48-4e4f-8d1f-b80c296cda11"
      },
      "outputs": [
        {
          "name": "stdout",
          "output_type": "stream",
          "text": [
            "Processed: pop_batch_psmap_39.jpeg\n",
            "Processed: pop_batch_psmap_54.jpeg\n",
            "Processed: pop_batch_psmap_40.jpeg\n",
            "Processed: pop_batch_psmap_21.jpeg\n",
            "Processed: pop_batch_psmap_47.jpeg\n",
            "Processed: pop_batch_psmap_51.jpeg\n",
            "Processed: pop_batch_psmap_29.jpeg\n",
            "Processed: pop_batch_psmap_45.jpeg\n",
            "Processed: pop_batch_psmap_48.jpeg\n",
            "Processed: income_batch_gcmap_05.jpeg\n",
            "Processed: income_batch_gcmap_21.jpeg\n",
            "Processed: income_batch_gcmap_20.jpeg\n",
            "Processed: income_batch_gcmap_24.jpeg\n",
            "Processed: income_batch_gcmap_01.jpeg\n",
            "Processed: income_batch_gcmap_18.jpeg\n",
            "Processed: income_batch_gcmap_17.jpeg\n",
            "Processed: income_batch_gcmap_13.jpeg\n",
            "Processed: income_batch_gcmap_12.jpeg\n",
            "Processed: income_batch_gcmap_22.jpeg\n",
            "Processed: unemploy_batch_gcmap_51.jpeg\n",
            "Processed: unemploy_batch_gcmap_54.jpeg\n",
            "Processed: unemploy_batch_gcmap_47.jpeg\n",
            "Processed: unemploy_batch_gcmap_48.jpeg\n",
            "Processed: unemploy_batch_gcmap_40.jpeg\n",
            "Processed: unemploy_batch_gcmap_45.jpeg\n",
            "Processed: unemploy_batch_gcmap_39.jpeg\n",
            "Processed: unemploy_batch_gcmap_37.jpeg\n",
            "Processed: unemploy_batch_gcmap_28.jpeg\n",
            "Processed: unemploy_batch_gcmap_29.jpeg\n",
            "Processed: unemploy_batch_gcmap_22.jpeg\n",
            "Processed: unemploy_batch_gcmap_24.jpeg\n",
            "Processed: unemploy_batch_gcmap_20.jpeg\n",
            "Processed: unemploy_batch_gcmap_18.jpeg\n",
            "Processed: unemploy_batch_gcmap_21.jpeg\n",
            "Processed: unemploy_batch_gcmap_13.jpeg\n",
            "Processed: unemploy_batch_gcmap_01.jpeg\n",
            "Processed: unemploy_batch_gcmap_05.jpeg\n",
            "Processed: unemploy_batch_gcmap_17.jpeg\n",
            "Processed: unemploy_batch_gcmap_12.jpeg\n",
            "Processed: income_batch_gcmap_48.jpeg\n",
            "Processed: income_batch_gcmap_51.jpeg\n",
            "Processed: income_batch_gcmap_54.jpeg\n",
            "Processed: income_batch_gcmap_47.jpeg\n",
            "Processed: income_batch_gcmap_40.jpeg\n",
            "Processed: income_batch_gcmap_45.jpeg\n",
            "Processed: income_batch_gcmap_29.jpeg\n",
            "Processed: income_batch_gcmap_37.jpeg\n",
            "Processed: income_batch_gcmap_39.jpeg\n",
            "Processed: income_batch_gcmap_28.jpeg\n"
          ]
        }
      ],
      "source": [
        "import os\n",
        "from pathlib import Path\n",
        "import time\n",
        "max_retries = 2\n",
        "output_files = glob.glob(\"/content/drive/MyDrive/GPT4V_Map_Reading/output/Prompt_1.1*GPT4V.txt\")\n",
        "\n",
        "for document in os.listdir(\"/content/drive/MyDrive/GPT4V_Map_Reading/Prompt 1.1/\"):\n",
        "  if not any(str(Path(document).stem) in file for file in output_files):\n",
        "    retries = 0\n",
        "    while retries < max_retries:\n",
        "      try:\n",
        "        SEED = 123\n",
        "        client = OpenAI(api_key = \"paste_your_API_key_here\")\n",
        "        response = client.chat.completions.create(\n",
        "          model=\"gpt-4-vision-preview\",\n",
        "          messages=[\n",
        "            { \"role\": \"user\",\n",
        "              \"content\": [\n",
        "                { \"type\": \"text\",\n",
        "                  \"text\": \"List all map elements included in the given map.\",\n",
        "                },\n",
        "                {\"type\": \"image_url\", \"image_url\": {\"url\": \"https://drive.google.com/uc?export=view&id=\"+get_shareable_link(\"/content/drive/MyDrive/GPT4V_Map_Reading/Prompt 1.1/\"+document),},},\n",
        "              ],\n",
        "            }\n",
        "          ],\n",
        "          seed = 1,\n",
        "          temperature=0,\n",
        "          max_tokens=2000,\n",
        "        )\n",
        "        with open(\"/content/drive/MyDrive/GPT4V_Map_Reading/output/Prompt_1.1_\"+str(Path(document).stem)+\"_GPT4V.txt\", \"w\") as file:\n",
        "          file.write(response.choices[0].message.content)\n",
        "        print(f\"Processed: {document}\")\n",
        "        break  # Break out of the retry loop since processing was successful\n",
        "\n",
        "      except Exception as e:\n",
        "        retries += 1\n",
        "        print(f\"An error occurred while processing {document}: {e}\")\n",
        "        time.sleep(3)\n",
        "\n",
        "      if retries >= max_retries:\n",
        "                  print(f\"Failed to process {document} after {max_retries} retries.\")\n",
        "\n",
        "    time.sleep(3)\n"
      ]
    },
    {
      "cell_type": "code",
      "execution_count": null,
      "metadata": {
        "colab": {
          "base_uri": "https://localhost:8080/"
        },
        "id": "DveQI6PiwrjA",
        "outputId": "d099c181-f02b-41ae-8c84-1237495d4658"
      },
      "outputs": [
        {
          "name": "stdout",
          "output_type": "stream",
          "text": [
            "Processed: income_batch_gcmap_notitle_22.jpeg\n",
            "Processed: income_batch_gcmap_notitle_20.jpeg\n",
            "Processed: income_batch_gcmap_notitle_24.jpeg\n",
            "Processed: income_batch_gcmap_notitle_12.jpeg\n",
            "Processed: income_batch_gcmap_notitle_05.jpeg\n",
            "Processed: income_batch_gcmap_notitle_01.jpeg\n",
            "Processed: income_batch_gcmap_notitle_18.jpeg\n",
            "Processed: income_batch_gcmap_notitle_13.jpeg\n",
            "Processed: income_batch_gcmap_notitle_21.jpeg\n",
            "Processed: income_batch_gcmap_notitle_17.jpeg\n",
            "Processed: pop_batch_dot_notitle_28.jpeg\n",
            "Processed: pop_batch_dot_notitle_24.jpeg\n",
            "Processed: pop_batch_dot_notitle_21.jpeg\n",
            "Processed: pop_batch_dot_notitle_17.jpeg\n",
            "Processed: pop_batch_dot_notitle_18.jpeg\n",
            "Processed: pop_batch_dot_notitle_20.jpeg\n",
            "Processed: pop_batch_dot_notitle_22.jpeg\n",
            "Processed: pop_batch_dot_notitle_05.jpeg\n",
            "Processed: pop_batch_dot_notitle_12.jpeg\n",
            "Processed: pop_batch_dot_notitle_13.jpeg\n",
            "Processed: pop_batch_dot_notitle_01.jpeg\n",
            "Processed: income_batch_gcmap_notitle_54.jpeg\n",
            "Processed: income_batch_gcmap_notitle_47.jpeg\n",
            "Processed: income_batch_gcmap_notitle_51.jpeg\n",
            "Processed: income_batch_gcmap_notitle_45.jpeg\n",
            "Processed: income_batch_gcmap_notitle_40.jpeg\n",
            "Processed: income_batch_gcmap_notitle_29.jpeg\n",
            "Processed: income_batch_gcmap_notitle_37.jpeg\n",
            "Processed: income_batch_gcmap_notitle_39.jpeg\n",
            "Processed: income_batch_gcmap_notitle_48.jpeg\n",
            "Processed: income_batch_gcmap_notitle_28.jpeg\n",
            "Processed: pop_batch_gcmap_notitle_48.jpeg\n",
            "An error occurred while processing pop_batch_gcmap_notitle_40.jpeg: Error code: 400 - {'error': {'message': \"You uploaded an unsupported image. Please make sure your image is below 20 MB in size and is of one the following formats: ['png', 'jpeg', 'gif', 'webp'].\", 'type': 'invalid_request_error', 'param': None, 'code': 'sanitizer_server_error'}}\n",
            "Processed: pop_batch_gcmap_notitle_40.jpeg\n",
            "Processed: pop_batch_gcmap_notitle_37.jpeg\n",
            "Processed: pop_batch_gcmap_notitle_54.jpeg\n",
            "Processed: pop_batch_gcmap_notitle_51.jpeg\n",
            "Processed: pop_batch_gcmap_notitle_45.jpeg\n",
            "Processed: pop_batch_gcmap_notitle_28.jpeg\n",
            "Processed: pop_batch_gcmap_notitle_47.jpeg\n",
            "Processed: pop_batch_gcmap_notitle_39.jpeg\n",
            "Processed: pop_batch_gcmap_notitle_29.jpeg\n",
            "Processed: pop_batch_gcmap_notitle_24.jpeg\n",
            "Processed: pop_batch_gcmap_notitle_20.jpeg\n",
            "Processed: pop_batch_gcmap_notitle_13.jpeg\n",
            "Processed: pop_batch_gcmap_notitle_22.jpeg\n",
            "Processed: pop_batch_gcmap_notitle_18.jpeg\n",
            "Processed: pop_batch_gcmap_notitle_17.jpeg\n",
            "Processed: pop_batch_gcmap_notitle_12.jpeg\n",
            "Processed: pop_batch_gcmap_notitle_05.jpeg\n",
            "Processed: pop_batch_gcmap_notitle_21.jpeg\n",
            "Processed: pop_batch_gcmap_notitle_01.jpeg\n",
            "Processed: pop_batch_dot_notitle_39.jpeg\n",
            "Processed: pop_batch_dot_notitle_51.jpeg\n",
            "Processed: pop_batch_dot_notitle_54.jpeg\n",
            "Processed: pop_batch_dot_notitle_48.jpeg\n",
            "Processed: pop_batch_dot_notitle_45.jpeg\n",
            "Processed: pop_batch_dot_notitle_29.jpeg\n",
            "Processed: pop_batch_dot_notitle_37.jpeg\n",
            "Processed: pop_batch_dot_notitle_40.jpeg\n",
            "Processed: pop_batch_dot_notitle_47.jpeg\n",
            "Processed: pop_batch_psmap_notitle_01.jpeg\n",
            "Processed: pop_batch_psmap_notitle_05.jpeg\n",
            "Processed: pop_batch_psmap_notitle_12.jpeg\n",
            "Processed: pop_batch_psmap_notitle_13.jpeg\n",
            "Processed: pop_batch_psmap_notitle_17.jpeg\n",
            "Processed: pop_batch_psmap_notitle_18.jpeg\n",
            "Processed: pop_batch_psmap_notitle_20.jpeg\n",
            "Processed: pop_batch_psmap_notitle_21.jpeg\n",
            "Processed: pop_batch_psmap_notitle_22.jpeg\n",
            "Processed: pop_batch_psmap_notitle_24.jpeg\n",
            "Processed: unemploy_batch_gcmap_notitle_28.jpeg\n",
            "Processed: unemploy_batch_gcmap_notitle_05.jpeg\n",
            "Processed: unemploy_batch_gcmap_notitle_24.jpeg\n",
            "Processed: unemploy_batch_gcmap_notitle_18.jpeg\n",
            "Processed: unemploy_batch_gcmap_notitle_21.jpeg\n",
            "Processed: unemploy_batch_gcmap_notitle_01.jpeg\n",
            "Processed: unemploy_batch_gcmap_notitle_12.jpeg\n",
            "Processed: unemploy_batch_gcmap_notitle_22.jpeg\n",
            "Processed: unemploy_batch_gcmap_notitle_13.jpeg\n",
            "Processed: unemploy_batch_gcmap_notitle_20.jpeg\n",
            "Processed: unemploy_batch_gcmap_notitle_17.jpeg\n",
            "Processed: pop_batch_psmap_notitle_51.jpeg\n",
            "Processed: pop_batch_psmap_notitle_37.jpeg\n",
            "Processed: pop_batch_psmap_notitle_45.jpeg\n",
            "Processed: pop_batch_psmap_notitle_54.jpeg\n",
            "Processed: pop_batch_psmap_notitle_47.jpeg\n",
            "Processed: pop_batch_psmap_notitle_29.jpeg\n",
            "Processed: pop_batch_psmap_notitle_40.jpeg\n",
            "Processed: pop_batch_psmap_notitle_39.jpeg\n",
            "Processed: pop_batch_psmap_notitle_48.jpeg\n",
            "Processed: pop_batch_psmap_notitle_28.jpeg\n",
            "Processed: unemploy_batch_gcmap_notitle_48.jpeg\n",
            "Processed: unemploy_batch_gcmap_notitle_45.jpeg\n",
            "Processed: unemploy_batch_gcmap_notitle_47.jpeg\n",
            "Processed: unemploy_batch_gcmap_notitle_29.jpeg\n",
            "Processed: unemploy_batch_gcmap_notitle_39.jpeg\n",
            "Processed: unemploy_batch_gcmap_notitle_40.jpeg\n",
            "Processed: unemploy_batch_gcmap_notitle_51.jpeg\n",
            "Processed: unemploy_batch_gcmap_notitle_37.jpeg\n",
            "Processed: unemploy_batch_gcmap_notitle_54.jpeg\n"
          ]
        }
      ],
      "source": [
        "import os\n",
        "from pathlib import Path\n",
        "import time\n",
        "max_retries = 2\n",
        "output_files = []\n",
        "#glob.glob(\"/content/drive/MyDrive/GPT4V_Map_Reading/output/Prompt_1.2_*GPT4V.txt\")\n",
        "\n",
        "for document in os.listdir(\"/content/drive/MyDrive/GPT4V_Map_Reading/Prompt 1.2/\"):\n",
        "  if not any(str(Path(document).stem) in file for file in output_files):\n",
        "    retries = 0\n",
        "    while retries < max_retries:\n",
        "      try:\n",
        "        SEED = 123\n",
        "        client = OpenAI(api_key = \"paste_your_API_key_here\")\n",
        "        response = client.chat.completions.create(\n",
        "          model=\"gpt-4-vision-preview\",\n",
        "          messages=[\n",
        "            { \"role\": \"user\",\n",
        "              \"content\": [\n",
        "                { \"type\": \"text\",\n",
        "                  \"text\": \"Identify the type of thematic map the given figure represents.\",\n",
        "                },\n",
        "                {\"type\": \"image_url\", \"image_url\": {\"url\": \"https://drive.google.com/uc?export=view&id=\"+get_shareable_link(\"/content/drive/MyDrive/GPT4V_Map_Reading/Prompt 1.2/\"+document),},},\n",
        "              ],\n",
        "            }\n",
        "          ],\n",
        "          seed = 1,\n",
        "          temperature=0,\n",
        "          max_tokens=2000,\n",
        "        )\n",
        "        with open(\"/content/drive/MyDrive/GPT4V_Map_Reading/output/Prompt_1.2_\"+str(Path(document).stem)+\"_GPT4V.txt\", \"w\") as file:\n",
        "          file.write(response.choices[0].message.content)\n",
        "        print(f\"Processed: {document}\")\n",
        "        break  # Break out of the retry loop since processing was successful\n",
        "\n",
        "      except Exception as e:\n",
        "        retries += 1\n",
        "        print(f\"An error occurred while processing {document}: {e}\")\n",
        "        time.sleep(3)\n",
        "\n",
        "      if retries >= max_retries:\n",
        "                  print(f\"Failed to process {document} after {max_retries} retries.\")\n",
        "\n",
        "    time.sleep(3)\n"
      ]
    },
    {
      "cell_type": "code",
      "execution_count": null,
      "metadata": {
        "id": "Yz3HySZhohYj"
      },
      "outputs": [],
      "source": [
        "os.listdir(\"/content/drive/MyDrive/GPT4V_Map_Reading/Prompt 1.1/\")[2:]"
      ]
    },
    {
      "cell_type": "code",
      "execution_count": null,
      "metadata": {
        "colab": {
          "base_uri": "https://localhost:8080/"
        },
        "id": "5A_S43k8rbig",
        "outputId": "4016b6ae-d6b9-45ad-8e81-cba6359d2efd"
      },
      "outputs": [
        {
          "name": "stdout",
          "output_type": "stream",
          "text": [
            "Processed: pts_clustered_00.jpeg\n",
            "Processed: pts_clustered_01.jpeg\n",
            "Processed: pts_clustered_02.jpeg\n",
            "Processed: pts_clustered_03.jpeg\n",
            "Processed: pts_clustered_04.jpeg\n",
            "Processed: pts_clustered_05.jpeg\n",
            "Processed: pts_clustered_06.jpeg\n",
            "Processed: pts_clustered_07.jpeg\n",
            "Processed: pts_clustered_08.jpeg\n",
            "Processed: pts_clustered_09.jpeg\n",
            "Processed: pts_dispersed_00.jpeg\n",
            "Processed: pts_dispersed_01.jpeg\n",
            "Processed: pts_dispersed_02.jpeg\n",
            "Processed: pts_dispersed_03.jpeg\n",
            "Processed: pts_dispersed_04.jpeg\n",
            "Processed: pts_dispersed_05.jpeg\n",
            "Processed: pts_dispersed_06.jpeg\n",
            "Processed: pts_dispersed_07.jpeg\n",
            "Processed: pts_dispersed_08.jpeg\n",
            "Processed: pts_dispersed_09.jpeg\n",
            "Processed: pts_random_00.jpeg\n",
            "Processed: pts_random_01.jpeg\n",
            "Processed: pts_random_02.jpeg\n",
            "Processed: pts_random_03.jpeg\n",
            "Processed: pts_random_04.jpeg\n",
            "Processed: pts_random_05.jpeg\n",
            "Processed: pts_random_06.jpeg\n",
            "Processed: pts_random_07.jpeg\n",
            "Processed: pts_random_08.jpeg\n",
            "Processed: pts_random_09.jpeg\n"
          ]
        }
      ],
      "source": [
        "import os\n",
        "from openai import OpenAI\n",
        "from pathlib import Path\n",
        "import time\n",
        "max_retries = 2\n",
        "output_files = []\n",
        "#glob.glob(\"/content/drive/MyDrive/GPT4V_Map_Reading/output/Prompt_1.2_*GPT4V.txt\")\n",
        "\n",
        "for document in os.listdir(\"/content/drive/MyDrive/GPT4V_Map_Reading/Prompt 2.1/\"):\n",
        "  if not any(str(Path(document).stem) in file for file in output_files):\n",
        "    retries = 0\n",
        "    while retries < max_retries:\n",
        "      try:\n",
        "        SEED = 123\n",
        "        client = OpenAI(api_key = \"paste_your_API_key_here\")\n",
        "        response = client.chat.completions.create(\n",
        "          model=\"gpt-4-vision-preview\",\n",
        "          messages=[\n",
        "            { \"role\": \"user\",\n",
        "              \"content\": [\n",
        "                { \"type\": \"text\",\n",
        "                  \"text\": \"List the most likely point distribution (choose from random, dispersed, or clustered) in the attached figure.\",\n",
        "                },\n",
        "                {\"type\": \"image_url\", \"image_url\": {\"url\": \"https://drive.google.com/uc?export=view&id=\"+get_shareable_link(\"/content/drive/MyDrive/GPT4V_Map_Reading/Prompt 2.1/\"+document),},},\n",
        "              ],\n",
        "            }\n",
        "          ],\n",
        "          seed = 1,\n",
        "          temperature=0,\n",
        "          max_tokens=2000,\n",
        "        )\n",
        "        with open(\"/content/drive/MyDrive/GPT4V_Map_Reading/output/Prompt_2.1_\"+str(Path(document).stem)+\"_GPT4V.txt\", \"w\") as file:\n",
        "          file.write(response.choices[0].message.content)\n",
        "        print(f\"Processed: {document}\")\n",
        "        break  # Break out of the retry loop since processing was successful\n",
        "\n",
        "      except Exception as e:\n",
        "        retries += 1\n",
        "        print(f\"An error occurred while processing {document}: {e}\")\n",
        "        time.sleep(3)\n",
        "\n",
        "      if retries >= max_retries:\n",
        "                  print(f\"Failed to process {document} after {max_retries} retries.\")\n",
        "\n",
        "    time.sleep(3)\n"
      ]
    },
    {
      "cell_type": "code",
      "execution_count": null,
      "metadata": {
        "colab": {
          "base_uri": "https://localhost:8080/"
        },
        "id": "fCEVhndDE4Gq",
        "outputId": "9db65d51-bdb6-4e56-cd2a-7be245c49742"
      },
      "outputs": [
        {
          "name": "stdout",
          "output_type": "stream",
          "text": [
            "Processed: fig_as.jpg\n",
            "Processed: fig_bg.jpg\n",
            "Processed: fig_cd.jpg\n",
            "Processed: fig_mvt.jpg\n"
          ]
        }
      ],
      "source": [
        "import os\n",
        "from openai import OpenAI\n",
        "from pathlib import Path\n",
        "import time\n",
        "max_retries = 2\n",
        "output_files = []\n",
        "#glob.glob(\"/content/drive/MyDrive/GPT4V_Map_Reading/output/Prompt_2.4_*GPT4V.txt\")\n",
        "\n",
        "for document in os.listdir(\"/content/drive/MyDrive/GPT4V_Map_Reading/Prompt 2.4/\"):\n",
        "  if not any(str(Path(document).stem) in file for file in output_files):\n",
        "    retries = 0\n",
        "    while retries < max_retries:\n",
        "      try:\n",
        "        SEED = 123\n",
        "        client = OpenAI(api_key = \"paste_your_API_key_here\")\n",
        "        response = client.chat.completions.create(\n",
        "          model=\"gpt-4-vision-preview\",\n",
        "          messages=[\n",
        "            { \"role\": \"user\",\n",
        "              \"content\": [\n",
        "                { \"type\": \"text\",\n",
        "                  \"text\": \"Describe the two tyeps of point distribution patterns (in green and blue) in the following map combined with the underlying income variable and tell which crime is more related to income?\",\n",
        "                },\n",
        "                {\"type\": \"image_url\", \"image_url\": {\"url\": \"https://drive.google.com/uc?export=view&id=\"+get_shareable_link(\"/content/drive/MyDrive/GPT4V_Map_Reading/Prompt 2.4/\"+document),},},\n",
        "              ],\n",
        "            }\n",
        "          ],\n",
        "          seed = 1,\n",
        "          temperature=0,\n",
        "          max_tokens=2000,\n",
        "        )\n",
        "        with open(\"/content/drive/MyDrive/GPT4V_Map_Reading/output/Prompt_2.4_\"+str(Path(document).stem)+\"_GPT4V.txt\", \"w\") as file:\n",
        "          file.write(response.choices[0].message.content)\n",
        "        print(f\"Processed: {document}\")\n",
        "        break  # Break out of the retry loop since processing was successful\n",
        "\n",
        "      except Exception as e:\n",
        "        retries += 1\n",
        "        print(f\"An error occurred while processing {document}: {e}\")\n",
        "        time.sleep(3)\n",
        "\n",
        "      if retries >= max_retries:\n",
        "                  print(f\"Failed to process {document} after {max_retries} retries.\")\n",
        "\n",
        "    time.sleep(3)\n"
      ]
    },
    {
      "cell_type": "code",
      "execution_count": null,
      "metadata": {
        "id": "kjmjgnsVCmqW"
      },
      "outputs": [],
      "source": [
        "prompt_test_1 = \"Can you list all the map elements present in the provided map and describe their significance?\"\n",
        "prompt_test_2 = \"List all the elements you can identify on this map, including physical features, man-made structures, and any annotations.\"\n",
        "prompt_test_3 = \"List all map elements included in the given map.\""
      ]
    },
    {
      "cell_type": "code",
      "execution_count": null,
      "metadata": {
        "colab": {
          "base_uri": "https://localhost:8080/"
        },
        "id": "Pr9ObaQ2mWDa",
        "outputId": "6b25d0f9-d91c-4408-ab0b-9546efb38a44"
      },
      "outputs": [
        {
          "name": "stdout",
          "output_type": "stream",
          "text": [
            "Processed: \n",
            "The map elements included in the given map are:\n",
            "\n",
            "1. Title: \"Spotted Owl Strix occidentalis\"\n",
            "2. Legend: Explains the color coding for predicted habitat quality within occupied watersheds (circa 2000) with categories such as None, Poor, Fair, and Good.\n",
            "3. Scale: Both in miles and kilometers, providing a reference for distance on the map.\n",
            "4. Ecoregional boundaries: Indicated by a specific hatched line pattern.\n",
            "5. County boundaries: Indicated by a different hatched line pattern.\n",
            "6. Map area: The main map area shows the state of Oregon with the habitat distribution of the spotted owl.\n",
            "7. Figure number: \"Figure 20.20. Range map of the spotted owl in Oregon.\"\n",
            "8. Source/Credit: \"Courtesy of Claudine Tobalske, Oregon Natural Heritage Information Center. Source: Oregon Natural Heritage Information Center, 2005 updated ODFW Conservation Strategy GAP Analysis.\"\n",
            "\n",
            "These elements help the reader to interpret the map's information regarding the habitat of the spotted owl in Oregon.\n"
          ]
        }
      ],
      "source": [
        "import os\n",
        "from openai import OpenAI\n",
        "from pathlib import Path\n",
        "import time\n",
        "max_retries = 2\n",
        "output_files = []\n",
        "#glob.glob(\"/content/drive/MyDrive/GPT4V_Map_Reading/output/Prompt_2.4_*GPT4V.txt\")\n",
        "\n",
        "prompt_test_1 = \"Can you list all the map elements present in the provided map and describe their significance?\"\n",
        "prompt_test_2 = \"List all the elements you can identify on this map, including physical features, man-made structures, and any annotations.\"\n",
        "prompt_test_3 = \"List all map elements included in the given map.\"\n",
        "\n",
        "try:\n",
        "  SEED = 123\n",
        "  client = OpenAI(api_key = \"paste_your_API_key_here\")\n",
        "  response = client.chat.completions.create(\n",
        "    model=\"gpt-4-vision-preview\",\n",
        "    messages=[\n",
        "      { \"role\": \"user\",\n",
        "        \"content\": [\n",
        "          { \"type\": \"text\",\n",
        "            \"text\": prompt_test_3,\n",
        "          },\n",
        "          {\"type\": \"image_url\", \"image_url\": {\"url\": \"https://drive.google.com/uc?export=view&id=\"+get_shareable_link(\"/content/drive/MyDrive/GPT4V_Map_Reading/Map Reading/map_test_1.1.png\"),},},\n",
        "        ],\n",
        "      }\n",
        "    ],\n",
        "    seed = 1,\n",
        "    temperature=0,\n",
        "    max_tokens=2000,\n",
        "  )\n",
        "  with open(\"/content/drive/MyDrive/GPT4V_Map_Reading/Prompt_1.1_GPT4V_t3.txt\", \"w\") as file:\n",
        "    file.write(response.choices[0].message.content)\n",
        "  print(f\"Processed: \")\n",
        "  print(response.choices[0].message.content)\n",
        "\n",
        "except Exception as e:\n",
        "  retries += 1\n",
        "  print(f\"An error occurred while processing {document}: {e}\")\n",
        "  time.sleep(3)\n",
        "\n",
        "\n",
        "time.sleep(3)\n"
      ]
    },
    {
      "cell_type": "code",
      "execution_count": null,
      "metadata": {
        "colab": {
          "base_uri": "https://localhost:8080/",
          "height": 492
        },
        "id": "zxxnO_TJmK0G",
        "outputId": "00a15847-4382-49e5-f2ab-f961a9de1c29"
      },
      "outputs": [
        {
          "data": {
            "text/markdown": [
              "> The map provided is a range map of the Spotted Owl in Oregon, and it includes several elements that are commonly found in thematic maps:\n",
              "> \n",
              "> 1. **Title**: \"Spotted Owl Strix occidentalis\" - This indicates the subject of the map, which is the geographic distribution of the Spotted Owl in Oregon.\n",
              "> \n",
              "> 2. **Legend**: The legend explains the meaning of the colors used on the map:\n",
              ">    - White: No predicted habitat within occupied watersheds (circa 2000)\n",
              ">    - Light Green: Poor predicted habitat quality\n",
              ">    - Medium Green: Fair predicted habitat quality\n",
              ">    - Dark Green: Good predicted habitat quality\n",
              "> \n",
              "> 3. **Scale**: There are two scales provided, one in miles and one in kilometers, which allow the user to understand distances on the map.\n",
              "> \n",
              "> 4. **Directional Indicator**: Although not explicitly shown, maps typically have north at the top unless otherwise indicated.\n",
              "> \n",
              "> 5. **Boundaries**: Two types of boundaries are shown:\n",
              ">    - Dashed lines: Ecoregional boundaries\n",
              ">    - Solid lines: County boundaries\n",
              "> \n",
              "> 6. **Source**: The source of the map is credited to the Oregon Natural Heritage Information Center, 2005, with an updated ODFW Conservation Strategy GAP Analysis.\n",
              "> \n",
              "> 7. **Figure Number and Caption**: \"Figure 20.20. Range map of the spotted owl in Oregon.\" This provides additional context and reference within the document from which the map is taken.\n",
              "> \n",
              "> 8. **Acknowledgment**: Courtesy of Claudine Tobalske, Oregon Natural Heritage Information Center.\n",
              "> \n",
              "> The significance of these elements is to provide a clear and informative representation of the data. The map is designed to communicate the distribution of suitable habitats for the Spotted Owl across the state of Oregon, with the different shades of green indicating the quality of the habitat. The boundaries help to locate these habitats within specific political or ecological regions. The scales are essential for understanding the extent of the habitats and their spatial relationships. The source and acknowledgments ensure transparency and credit the creators and contributors to the map."
            ],
            "text/plain": [
              "<IPython.core.display.Markdown object>"
            ]
          },
          "execution_count": 11,
          "metadata": {},
          "output_type": "execute_result"
        }
      ],
      "source": [
        "to_markdown(response.choices[0].message.content)"
      ]
    },
    {
      "cell_type": "code",
      "execution_count": null,
      "metadata": {
        "colab": {
          "base_uri": "https://localhost:8080/",
          "height": 427
        },
        "id": "qQ053YM2nNlR",
        "outputId": "0350ab33-f129-41cd-bee7-dfc2faee2871"
      },
      "outputs": [
        {
          "data": {
            "text/markdown": [
              "> This map is titled \"Spotted Owl Strix occidentalis\" and is labeled as \"Figure 20.20. Range map of the spotted owl in Oregon.\" It is a range map showing the predicted habitat within occupied watersheds for the spotted owl in the state of Oregon, circa 2000. The map includes the following elements:\n",
              "> \n",
              "> 1. Color-coded areas indicating the quality of the habitat:\n",
              ">    - White: No predicted habitat\n",
              ">    - Light green: Poor habitat\n",
              ">    - Medium green: Fair habitat\n",
              ">    - Dark green: Good habitat\n",
              "> \n",
              "> 2. Lines indicating boundaries:\n",
              ">    - Dashed lines: Ecoregional boundaries\n",
              ">    - Solid lines: County boundaries\n",
              "> \n",
              "> 3. The outline of the state of Oregon, with county and ecoregional boundaries marked within.\n",
              "> \n",
              "> 4. A scale bar at the bottom left, providing both miles and kilometers for reference.\n",
              "> \n",
              "> 5. Annotations and credits:\n",
              ">    - The source of the map is credited to the Oregon Natural Heritage Information Center, 2005, and it mentions an updated ODFW (Oregon Department of Fish and Wildlife) Conservation Strategy GAP Analysis.\n",
              ">    - Courtesy is given to Claudine Tobalske, Oregon Natural Heritage Information Center.\n",
              "> \n",
              "> The map is a visual representation of the distribution and quality of habitats for the spotted owl across different regions of Oregon, which is useful for conservation planning and environmental studies."
            ],
            "text/plain": [
              "<IPython.core.display.Markdown object>"
            ]
          },
          "execution_count": 13,
          "metadata": {},
          "output_type": "execute_result"
        }
      ],
      "source": [
        "to_markdown(response.choices[0].message.content)"
      ]
    },
    {
      "cell_type": "code",
      "execution_count": null,
      "metadata": {
        "colab": {
          "base_uri": "https://localhost:8080/",
          "height": 281
        },
        "id": "uLWNhfgznOkE",
        "outputId": "4d2a043a-a4bd-41a7-cf22-9db1d9b02d8f"
      },
      "outputs": [
        {
          "data": {
            "text/markdown": [
              "> The map elements included in the given map are:\n",
              "> \n",
              "> 1. Title: \"Spotted Owl Strix occidentalis\"\n",
              "> 2. Legend: Explains the color coding for predicted habitat quality within occupied watersheds (circa 2000) with categories such as None, Poor, Fair, and Good.\n",
              "> 3. Scale: Both in miles and kilometers, providing a reference for distance on the map.\n",
              "> 4. Ecoregional boundaries: Indicated by a specific hatched line pattern.\n",
              "> 5. County boundaries: Indicated by a different hatched line pattern.\n",
              "> 6. Map area: The main map area shows the state of Oregon with the habitat distribution of the spotted owl.\n",
              "> 7. Figure number: \"Figure 20.20. Range map of the spotted owl in Oregon.\"\n",
              "> 8. Source/Credit: \"Courtesy of Claudine Tobalske, Oregon Natural Heritage Information Center. Source: Oregon Natural Heritage Information Center, 2005 updated ODFW Conservation Strategy GAP Analysis.\"\n",
              "> \n",
              "> These elements help the reader to interpret the map's information regarding the habitat of the spotted owl in Oregon."
            ],
            "text/plain": [
              "<IPython.core.display.Markdown object>"
            ]
          },
          "execution_count": 15,
          "metadata": {},
          "output_type": "execute_result"
        }
      ],
      "source": [
        "to_markdown(response.choices[0].message.content)"
      ]
    },
    {
      "cell_type": "code",
      "execution_count": null,
      "metadata": {
        "id": "Pi7NoNKVZ3MY"
      },
      "outputs": [],
      "source": [
        "import os\n",
        "from openai import OpenAI\n",
        "from pathlib import Path\n",
        "import time\n",
        "max_retries = 2\n",
        "output_files = []\n",
        "#glob.glob(\"/content/drive/MyDrive/GPT4V_Map_Reading/output/Prompt_2.4_*GPT4V.txt\")\n",
        "\n",
        "prompt_test_1 = \"Can you list all the map elements present in the provided map and describe their significance?\"\n",
        "prompt_test_2 = \"List all the elements you can identify on this map, including physical features, man-made structures, and any annotations.\"\n",
        "prompt_test_3 = \"List all map elements included in the given map.\"\n",
        "\n",
        "try:\n",
        "  SEED = 123\n",
        "  client = OpenAI(api_key = \"paste_your_API_key_here\")\n",
        "  response = client.chat.completions.create(\n",
        "    model=\"gpt-4-vision-preview\",\n",
        "    messages=[\n",
        "      { \"role\": \"user\",\n",
        "        \"content\": [\n",
        "          { \"type\": \"text\",\n",
        "            \"text\": prompt_test_3,\n",
        "          },\n",
        "          {\"type\": \"image_url\", \"image_url\": {\"url\": \"https://drive.google.com/uc?export=view&id=\"+get_shareable_link(\"/content/drive/MyDrive/GPT4V_Map_Reading/Map Reading/map_test_1.1.png\"),},},\n",
        "        ],\n",
        "      }\n",
        "    ],\n",
        "    seed = 1,\n",
        "    temperature=0,\n",
        "    max_tokens=2000,\n",
        "  )\n",
        "  with open(\"/content/drive/MyDrive/GPT4V_Map_Reading/Prompt_1.1_GPT4V_t3.txt\", \"w\") as file:\n",
        "    file.write(response.choices[0].message.content)\n",
        "  print(f\"Processed: \")\n",
        "  print(response.choices[0].message.content)\n",
        "\n",
        "except Exception as e:\n",
        "  retries += 1\n",
        "  print(f\"An error occurred while processing {document}: {e}\")\n",
        "  time.sleep(3)\n",
        "\n",
        "\n",
        "time.sleep(3)\n"
      ]
    }
  ],
  "metadata": {
    "colab": {
      "provenance": [],
      "toc_visible": true
    },
    "kernelspec": {
      "display_name": "Python 3",
      "name": "python3"
    },
    "language_info": {
      "name": "python"
    }
  },
  "nbformat": 4,
  "nbformat_minor": 0
}
